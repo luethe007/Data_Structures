{
 "cells": [
  {
   "cell_type": "markdown",
   "metadata": {},
   "source": [
    "# Data Structures\n",
    "This notebook covers a variety of topics related to data structures. \n",
    "\n",
    "## LRU Cache\n",
    "Design a Least Recently Used (LRU) Cache. An LRU cache is a type of cache in which we remove the least recently used entry when the cache memory reaches its limit. The expected time complexity of setting and getting operations are O(1).\n",
    "\n",
    "The LRU Cache is implemented with the **OrderedDict** from collections. This class provides useful methods for rearranging the order of the elements in the dictionary. These methods (*move_to_end()* and *popitem*) work in constant time."
   ]
  },
  {
   "cell_type": "code",
   "execution_count": 41,
   "metadata": {},
   "outputs": [],
   "source": [
    "from collections import OrderedDict\n",
    "\n",
    "class LRU_Cache(object):\n",
    "    \"\"\"\n",
    "        Cache that removes the least recently used element if cache memory is full.\n",
    "        All operations work in constant time O(1).\n",
    "    \"\"\"\n",
    "    \n",
    "    def __init__(self, capacity=5):\n",
    "        # Initialize class variables\n",
    "        self.capacity = capacity\n",
    "        self.cache = OrderedDict()\n",
    "\n",
    "    def get(self, key):\n",
    "        # Retrieve item from provided key. Return -1 if nonexistent. \n",
    "        if self.cache.get(key): # time complexity of dict.get(key) is O(1)\n",
    "            self.cache.move_to_end(key) # time complexity of move_to_end() is O(1)\n",
    "            return self.cache[key]\n",
    "        else:\n",
    "            return -1\n",
    "\n",
    "    def set(self, key, value):\n",
    "        # Sets the value if the key is not present in the cache. \n",
    "        # If the cache is at capacity it removes the oldest item. \n",
    "        if not self.cache.get(key): # time complexity of dict.get(key) is O(1)\n",
    "            if len(self.cache) == self.capacity:\n",
    "                self.cache.popitem(last=False) # time complexity of popitem() is  O(1)\n",
    "            self.cache[key] = value\n",
    "            self.cache.move_to_end(key) # time complexity of move_to_end() is O(1)"
   ]
  },
  {
   "cell_type": "code",
   "execution_count": 42,
   "metadata": {},
   "outputs": [
    {
     "name": "stdout",
     "output_type": "stream",
     "text": [
      "1\n",
      "2\n",
      "-1\n",
      "-1\n"
     ]
    }
   ],
   "source": [
    "our_cache = LRU_Cache(5)\n",
    "\n",
    "our_cache.set(1, 1);\n",
    "our_cache.set(2, 2);\n",
    "our_cache.set(3, 3);\n",
    "our_cache.set(4, 4);\n",
    "\n",
    "print(our_cache.get(1))       # returns 1\n",
    "print(our_cache.get(2))       # returns 2\n",
    "print(our_cache.get(9))       # returns -1 because 9 is not present in the cache\n",
    "our_cache.set(5, 5) \n",
    "our_cache.set(6, 6)\n",
    "our_cache.set(7, 7)\n",
    "our_cache.set(8, 8)\n",
    "\n",
    "print(our_cache.get(3))       # returns -1 because the cache reached it's capacity and 3 was the least recently used entry"
   ]
  },
  {
   "cell_type": "markdown",
   "metadata": {},
   "source": [
    "## File Recursion"
   ]
  },
  {
   "cell_type": "code",
   "execution_count": 3,
   "metadata": {},
   "outputs": [
    {
     "name": "stdout",
     "output_type": "stream",
     "text": [
      "['README.md', '.git', '.ipynb_checkpoints']\n",
      "False\n",
      "True\n"
     ]
    }
   ],
   "source": [
    "## Locally save and call this file ex.py ##\n",
    "\n",
    "# Code to demonstrate the use of some of the OS modules in python\n",
    "\n",
    "import os\n",
    "\n",
    "# Let us print the files in the directory in which you are running this script\n",
    "print (os.listdir(\".\"))\n",
    "\n",
    "# Let us check if this file is indeed a file!\n",
    "print (os.path.isfile(\"./ex.py\"))\n",
    "\n",
    "# Does the file end with .py?\n",
    "print (\"./ex.py\".endswith(\".py\"))"
   ]
  },
  {
   "cell_type": "code",
   "execution_count": null,
   "metadata": {},
   "outputs": [],
   "source": []
  },
  {
   "cell_type": "markdown",
   "metadata": {},
   "source": [
    "## Huffman Coding"
   ]
  },
  {
   "cell_type": "code",
   "execution_count": null,
   "metadata": {},
   "outputs": [],
   "source": []
  },
  {
   "cell_type": "code",
   "execution_count": null,
   "metadata": {},
   "outputs": [],
   "source": []
  },
  {
   "cell_type": "markdown",
   "metadata": {},
   "source": [
    "## Active Directory"
   ]
  },
  {
   "cell_type": "code",
   "execution_count": null,
   "metadata": {},
   "outputs": [],
   "source": []
  },
  {
   "cell_type": "code",
   "execution_count": null,
   "metadata": {},
   "outputs": [],
   "source": []
  },
  {
   "cell_type": "markdown",
   "metadata": {},
   "source": [
    "## Blockchain"
   ]
  },
  {
   "cell_type": "code",
   "execution_count": null,
   "metadata": {},
   "outputs": [],
   "source": []
  },
  {
   "cell_type": "code",
   "execution_count": null,
   "metadata": {},
   "outputs": [],
   "source": []
  },
  {
   "cell_type": "markdown",
   "metadata": {},
   "source": [
    "## Union and Intersection"
   ]
  },
  {
   "cell_type": "code",
   "execution_count": null,
   "metadata": {},
   "outputs": [],
   "source": []
  },
  {
   "cell_type": "code",
   "execution_count": null,
   "metadata": {},
   "outputs": [],
   "source": []
  }
 ],
 "metadata": {
  "kernelspec": {
   "display_name": "Python 3",
   "language": "python",
   "name": "python3"
  },
  "language_info": {
   "codemirror_mode": {
    "name": "ipython",
    "version": 3
   },
   "file_extension": ".py",
   "mimetype": "text/x-python",
   "name": "python",
   "nbconvert_exporter": "python",
   "pygments_lexer": "ipython3",
   "version": "3.7.6"
  }
 },
 "nbformat": 4,
 "nbformat_minor": 4
}
